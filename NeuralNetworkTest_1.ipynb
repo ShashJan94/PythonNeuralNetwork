{
 "cells": [
  {
   "cell_type": "markdown",
   "id": "fe093377-9806-4da7-b481-92906f41c0c1",
   "metadata": {},
   "source": [
    "<h1 style = \"color: cyan; font: google\"> Simple neural Network Testing</h1>\n"
   ]
  },
  {
   "cell_type": "code",
   "execution_count": 25,
   "id": "9a6ce10d-8d5b-4049-b5f8-ac2fd0a55062",
   "metadata": {},
   "outputs": [],
   "source": [
    "import numpy as np\n",
    "import pandas as pd\n",
    "import random\n",
    "random . seed (2016)\n",
    "sample_size =50\n",
    "sample = pd . Series ( random . sample ( range( -10000 ,10000) , sample_size ))\n",
    "x= sample /10000\n",
    "y=x **2\n"
   ]
  },
  {
   "cell_type": "code",
   "execution_count": 11,
   "id": "65ab9096-148a-4492-aa1b-f643f9ead963",
   "metadata": {},
   "outputs": [
    {
     "name": "stdout",
     "output_type": "stream",
     "text": [
      " Working on data item :  1\n",
      " Working on data item :  2\n",
      " Working on data item :  3\n",
      " Working on data item :  4\n",
      " Working on data item :  5\n",
      " Working on data item :  6\n",
      " Working on data item :  7\n",
      " Working on data item :  8\n",
      " Working on data item :  9\n",
      " Working on data item :  10\n",
      " Working on data item :  11\n",
      " Working on data item :  12\n",
      " Working on data item :  13\n",
      " Working on data item :  14\n",
      " Working on data item :  15\n",
      " Working on data item :  16\n",
      " Working on data item :  17\n",
      " Working on data item :  18\n",
      " Working on data item :  19\n",
      " Working on data item :  20\n",
      " Working on data item :  21\n",
      " Working on data item :  22\n",
      " Working on data item :  23\n",
      " Working on data item :  24\n",
      " Working on data item :  25\n",
      " Working on data item :  26\n",
      " Working on data item :  27\n",
      " Working on data item :  28\n",
      " Working on data item :  29\n",
      " Working on data item :  30\n",
      " Working on data item :  31\n",
      " Working on data item :  32\n",
      " Working on data item :  33\n",
      " Working on data item :  34\n",
      " Working on data item :  35\n",
      " Working on data item :  36\n",
      " Working on data item :  37\n",
      " Working on data item :  38\n",
      " Working on data item :  39\n",
      " Working on data item :  40\n",
      " Working on data item :  41\n",
      " Working on data item :  42\n",
      " Working on data item :  43\n",
      " Working on data item :  44\n",
      " Working on data item :  45\n",
      " Working on data item :  46\n",
      " Working on data item :  47\n",
      " Working on data item :  48\n",
      " Working on data item :  49\n"
     ]
    }
   ],
   "source": [
    "count = 0\n",
    "dataSet = [([ x.iloc [ count:0 ]] ,[ y.iloc[count:0]]) ]\n",
    "count =1\n",
    "while ( count < sample_size ):\n",
    "    print (\" Working on data item : \",count)\n",
    "    dataSet = ( dataSet +[([ x.iloc[ count:0]] ,[y.iloc [ count:0]]) ])\n",
    "    count = count + 1\n"
   ]
  },
  {
   "cell_type": "code",
   "execution_count": 21,
   "id": "13e1df0d-2674-4bb4-942e-05c4de299cd5",
   "metadata": {},
   "outputs": [
    {
     "name": "stdout",
     "output_type": "stream",
     "text": [
      "Epoch: 100; Error: 2.6040279559528847;\n",
      "Epoch: 200; Error: 2.4369581137248333;\n",
      "Epoch: 300; Error: 5.313976849855708;\n",
      "Epoch: 400; Error: 6.816319258473461;\n",
      "Epoch: 500; Error: 2.334334259429211;\n",
      "Epoch: 600; Error: 5.527016280753853;\n",
      "Epoch: 700; Error: 2.0661977097364086;\n",
      "Epoch: 800; Error: 3.272459893863864;\n",
      "Epoch: 900; Error: 3.2539612084271106;\n",
      "Epoch: 1000; Error: 3.114985875854459;\n",
      "The maximum number of train epochs is reached\n"
     ]
    }
   ],
   "source": [
    "import neurolab as nl\n",
    "min_val =-10000\n",
    "max_val =10000\n",
    "neural_net = nl.net.newff([[min_val, max_val]], [3,7,1])\n",
    "neural_net.trainf = nl.train.train_gd\n",
    "error = neural_net.train(x.to_numpy().reshape(-1,1),y.to_numpy().reshape(-1,1), epochs = 1000, show = 100, goal = 0.01)\n"
   ]
  },
  {
   "cell_type": "code",
   "execution_count": 23,
   "id": "04f5ea42-b67d-44fe-9b4b-d0d235f45d58",
   "metadata": {},
   "outputs": [],
   "source": [
    "output = neural_net.sim(x.to_numpy().reshape(-1,1))\n",
    "y_pred = output.reshape(sample_size)"
   ]
  },
  {
   "cell_type": "code",
   "execution_count": 24,
   "id": "6488a96d-5459-48fa-b248-329064fe24bd",
   "metadata": {},
   "outputs": [
    {
     "data": {
      "text/plain": [
       "array([0.68103415, 0.85557273, 0.39231326, 0.82892142, 0.33492904,\n",
       "       0.76855271, 0.83774641, 0.77211895, 0.74358009, 0.81582814,\n",
       "       0.33381922, 0.75449202, 0.70758182, 0.33769876, 0.52995433,\n",
       "       0.37845493, 0.5388243 , 0.43838865, 0.67007954, 0.78880506,\n",
       "       0.69304455, 0.33386003, 0.86239009, 0.42717599, 0.36977096,\n",
       "       0.88638312, 0.86034037, 0.33410411, 0.86656678, 0.57603838,\n",
       "       0.61024462, 0.33506328, 0.86720405, 0.44401916, 0.83689683,\n",
       "       0.33315216, 0.68322728, 0.8133422 , 0.65847741, 0.8348321 ,\n",
       "       0.87553984, 0.86134649, 0.45189024, 0.87522419, 0.56570767,\n",
       "       0.37908611, 0.46081088, 0.39217687, 0.84659836, 0.48864647])"
      ]
     },
     "execution_count": 24,
     "metadata": {},
     "output_type": "execute_result"
    }
   ],
   "source": [
    "y_pred"
   ]
  },
  {
   "cell_type": "code",
   "execution_count": null,
   "id": "40686bbe-d21b-478a-9e58-4dbc50b985ee",
   "metadata": {},
   "outputs": [],
   "source": []
  }
 ],
 "metadata": {
  "kernelspec": {
   "display_name": "Python 3 (ipykernel)",
   "language": "python",
   "name": "python3"
  },
  "language_info": {
   "codemirror_mode": {
    "name": "ipython",
    "version": 3
   },
   "file_extension": ".py",
   "mimetype": "text/x-python",
   "name": "python",
   "nbconvert_exporter": "python",
   "pygments_lexer": "ipython3",
   "version": "3.9.7"
  }
 },
 "nbformat": 4,
 "nbformat_minor": 5
}
